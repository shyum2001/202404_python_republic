{
 "cells": [
  {
   "cell_type": "code",
   "execution_count": null,
   "metadata": {},
   "outputs": [],
   "source": [
    "#建立類別的BMI, Class of BMI\n",
    "#一、attribute -> name,weight,height\n",
    "#二、property  -> bmi\n",
    "#三、instance method -> status (字串)\n",
    "\n",
    "\n",
    "#輸入\n",
    "#請輸入姓名\n",
    "#請輸入體重\n",
    "#請輸入身高\n",
    "\n",
    "#輸出\n",
    "#徐國堂您好，BMI:26.12(浮點數),體重:過重"
   ]
  }
 ],
 "metadata": {
  "language_info": {
   "name": "python"
  }
 },
 "nbformat": 4,
 "nbformat_minor": 2
}
