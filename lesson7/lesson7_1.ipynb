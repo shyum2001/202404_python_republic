{
 "cells": [
  {
   "cell_type": "code",
   "execution_count": 2,
   "metadata": {},
   "outputs": [],
   "source": [
    "class Person():\n",
    "    def __init__(self,n:str):\n",
    "        self.name = n\n",
    "    \n",
    "    def __repr__(self):\n",
    "        return \"這是Person的實體\"\n",
    "    "
   ]
  },
  {
   "cell_type": "code",
   "execution_count": 3,
   "metadata": {},
   "outputs": [
    {
     "name": "stdout",
     "output_type": "stream",
     "text": [
      "徐國堂\n",
      "這是Person的實體\n"
     ]
    }
   ],
   "source": [
    "p1 = Person(\"徐國堂\")\n",
    "print(p1.name)\n",
    "print(p1)"
   ]
  },
  {
   "cell_type": "code",
   "execution_count": null,
   "metadata": {},
   "outputs": [],
   "source": [
    "class Person():\n",
    "    def __init__(self,n:str):\n",
    "        self.name = n\n",
    "    \n",
    "    def __repr__(self):\n",
    "        return f\"這是Person的實體,我的名字是{self.name}\" #字串插補"
   ]
  },
  {
   "cell_type": "code",
   "execution_count": 8,
   "metadata": {},
   "outputs": [
    {
     "name": "stdout",
     "output_type": "stream",
     "text": [
      "徐國堂\n",
      "這是Person的實體,我的名字是徐國堂\n"
     ]
    }
   ],
   "source": [
    "p1 = Person(\"徐國堂\")\n",
    "print(p1.name)\n",
    "print(p1)"
   ]
  },
  {
   "cell_type": "code",
   "execution_count": 10,
   "metadata": {},
   "outputs": [],
   "source": [
    "class Person():\n",
    "    def __init__(self,n:str):\n",
    "        self.name = n\n",
    "    \n",
    "    def __repr__(self):\n",
    "        return f\"這是Person的實體,我的名字是{self.name}\" #字串插補"
   ]
  },
  {
   "cell_type": "code",
   "execution_count": 12,
   "metadata": {},
   "outputs": [
    {
     "name": "stdout",
     "output_type": "stream",
     "text": [
      "Robert Hsu\n",
      "這是Person的實體,我的名字是Robert Hsu\n"
     ]
    }
   ],
   "source": [
    "p2 = Person(\"Robert Hsu\")\n",
    "print(p2.name)\n",
    "print(p2)"
   ]
  },
  {
   "cell_type": "code",
   "execution_count": 4,
   "metadata": {},
   "outputs": [
    {
     "data": {
      "text/plain": [
       "'我的名字徐國堂'"
      ]
     },
     "execution_count": 4,
     "metadata": {},
     "output_type": "execute_result"
    }
   ],
   "source": [
    "name = \"徐國堂\"\n",
    "\"我的名字是name\"\n",
    "f\"我的名字{name}\"#字串插補"
   ]
  },
  {
   "cell_type": "code",
   "execution_count": 13,
   "metadata": {},
   "outputs": [
    {
     "name": "stdout",
     "output_type": "stream",
     "text": [
      "<class '__main__.Student'>\n",
      "徐國堂\n",
      "96\n"
     ]
    }
   ],
   "source": [
    "#繼承Class  https://docs.python.org/zh-tw/3/library/functions.html#func-tuple\n",
    "#為了方便組件，定義所有的事情，但如先建汽車工廠(模組)\n",
    "class Person():\n",
    "    def __init__(self,n:str):  #self,\"n\"是指下面的self.name=n \n",
    "        self.name = n\n",
    "    \n",
    "    def __repr__(self):\n",
    "        return f\"這是Person的實體,我的名字是{self.name}\" #字串插補\n",
    "    \n",
    "class Student(Person):\n",
    "    def __init__(self,name:str,scores:int): #把名字和分數都放進去\n",
    "        super().__init__(name)  #回去確認一下 super()\n",
    "        self.scores = scores\n",
    "\n",
    "s1 = Student(\"徐國堂\",96)\n",
    "print(type(s1)) #確認型態，下面有寫Student的內容\n",
    "print(s1.name)  \n",
    "print(s1.scores)"
   ]
  },
  {
   "cell_type": "code",
   "execution_count": 16,
   "metadata": {},
   "outputs": [
    {
     "name": "stdout",
     "output_type": "stream",
     "text": [
      "<class '__main__.Student'>\n",
      "徐國堂\n",
      "96\n",
      "這是Student的實體,我的名用是徐國堂,我的分數是96\n"
     ]
    }
   ],
   "source": [
    "class Person():\n",
    "    def __init__(self,n:str):  #self,\"n\"是指下面的self.name=n \n",
    "        self.name = n\n",
    "    \n",
    "    def __repr__(self):\n",
    "        return f\"這是Person的實體,我的名字是{self.name}\" #字串插補\n",
    "    \n",
    "class Student(Person):\n",
    "    def __init__(self,name:str,scores:int): #把名字和分數都放進去\n",
    "        super().__init__(name)  #回去確認一下 super()\n",
    "        self.scores = scores\n",
    "\n",
    "    def __repr__(self): #適合多人開發，只要重新定義就好\n",
    "        return f\"這是Student的實體,我的名用是{self.name},我的分數是{self.scores}\"\n",
    "\n",
    "s1 = Student(\"徐國堂\",96)\n",
    "print(type(s1)) #確認型態，下面有寫Student的內容\n",
    "print(s1.name)  \n",
    "print(s1.scores)\n",
    "print(s1)"
   ]
  },
  {
   "cell_type": "code",
   "execution_count": 17,
   "metadata": {},
   "outputs": [
    {
     "name": "stdout",
     "output_type": "stream",
     "text": [
      "<class '__main__.Student'>\n",
      "徐國堂\n",
      "96\n",
      "這是Student的實體,我的名字是徐國堂,我的分數是96\n"
     ]
    }
   ],
   "source": [
    "class Person():\n",
    "    def __init__(self,n:str):\n",
    "        self.name = n\n",
    "    \n",
    "    def __repr__(self):\n",
    "        return f\"這是Person的實體,我的名字是{self.name}\" #字串插補\n",
    "    \n",
    "class Student(Person):\n",
    "    def __init__(self,name:str,scores:int): #這裡有兩個值，下面print時要有對照值\n",
    "        super().__init__(name)\n",
    "        self.scores = scores\n",
    "\n",
    "    def __repr__(self):\n",
    "        return f\"這是Student的實體,我的名字是{self.name},我的分數是{self.scores}\" #字串插補    \n",
    "\n",
    "s1 = Student(\"徐國堂\",96)\n",
    "print(type(s1))\n",
    "print(s1.name)\n",
    "print(s1.scores)\n",
    "print(s1)"
   ]
  },
  {
   "cell_type": "code",
   "execution_count": 19,
   "metadata": {},
   "outputs": [
    {
     "ename": "TypeError",
     "evalue": "Student.__init__() takes 3 positional arguments but 5 were given",
     "output_type": "error",
     "traceback": [
      "\u001b[0;31m---------------------------------------------------------------------------\u001b[0m",
      "\u001b[0;31mTypeError\u001b[0m                                 Traceback (most recent call last)",
      "Cell \u001b[0;32mIn[19], line 8\u001b[0m\n\u001b[1;32m      5\u001b[0m     \u001b[38;5;28;01mdef\u001b[39;00m \u001b[38;5;21m__repr__\u001b[39m(\u001b[38;5;28mself\u001b[39m):\n\u001b[1;32m      6\u001b[0m         \u001b[38;5;28;01mreturn\u001b[39;00m \u001b[38;5;124mf\u001b[39m\u001b[38;5;124m\"\u001b[39m\u001b[38;5;124m這是Person的實體,我的名字是\u001b[39m\u001b[38;5;132;01m{\u001b[39;00m\u001b[38;5;28mself\u001b[39m\u001b[38;5;241m.\u001b[39mname\u001b[38;5;132;01m}\u001b[39;00m\u001b[38;5;124m\"\u001b[39m \u001b[38;5;66;03m#字串插補\u001b[39;00m\n\u001b[0;32m----> 8\u001b[0m \u001b[38;5;28;43;01mclass\u001b[39;49;00m\u001b[43m \u001b[49m\u001b[38;5;21;43;01mStudent\u001b[39;49;00m\u001b[43m(\u001b[49m\u001b[43mPerson\u001b[49m\u001b[43m)\u001b[49m\u001b[43m:\u001b[49m\u001b[43m  \u001b[49m\u001b[38;5;66;43;03m#第二層，在person的Student\u001b[39;49;00m\n\u001b[1;32m      9\u001b[0m \u001b[43m    \u001b[49m\u001b[38;5;28;43;01mdef\u001b[39;49;00m\u001b[43m \u001b[49m\u001b[38;5;21;43m__init__\u001b[39;49m\u001b[43m(\u001b[49m\u001b[38;5;28;43mself\u001b[39;49m\u001b[43m,\u001b[49m\u001b[43mname\u001b[49m\u001b[43m:\u001b[49m\u001b[38;5;28;43mstr\u001b[39;49m\u001b[43m,\u001b[49m\u001b[43mchinese\u001b[49m\u001b[43m:\u001b[49m\u001b[38;5;28;43mint\u001b[39;49m\u001b[43m,\u001b[49m\u001b[43menglish\u001b[49m\u001b[43m:\u001b[49m\u001b[38;5;28;43mint\u001b[39;49m\u001b[43m,\u001b[49m\u001b[43mmath\u001b[49m\u001b[43m:\u001b[49m\u001b[38;5;28;43mint\u001b[39;49m\u001b[43m)\u001b[49m\u001b[43m:\u001b[49m\u001b[43m \u001b[49m\u001b[38;5;66;43;03m#有四個atrubution\u001b[39;49;00m\n\u001b[1;32m     10\u001b[0m \u001b[43m        \u001b[49m\u001b[38;5;28;43msuper\u001b[39;49m\u001b[43m(\u001b[49m\u001b[43m)\u001b[49m\u001b[38;5;241;43m.\u001b[39;49m\u001b[38;5;21;43m__init__\u001b[39;49m\u001b[43m(\u001b[49m\u001b[43mname\u001b[49m\u001b[43m)\u001b[49m\n",
      "Cell \u001b[0;32mIn[19], line 24\u001b[0m, in \u001b[0;36mStudent\u001b[0;34m()\u001b[0m\n\u001b[1;32m     21\u001b[0m     message \u001b[38;5;241m+\u001b[39m\u001b[38;5;241m=\u001b[39m \u001b[38;5;124mf\u001b[39m\u001b[38;5;124m\"\u001b[39m\u001b[38;5;124m數學:\u001b[39m\u001b[38;5;132;01m{\u001b[39;00m\u001b[38;5;28mself\u001b[39m\u001b[38;5;241m.\u001b[39mmath\u001b[38;5;132;01m}\u001b[39;00m\u001b[38;5;130;01m\\n\u001b[39;00m\u001b[38;5;124m\"\u001b[39m\n\u001b[1;32m     22\u001b[0m     \u001b[38;5;28;01mreturn\u001b[39;00m message\n\u001b[0;32m---> 24\u001b[0m s1 \u001b[38;5;241m=\u001b[39m \u001b[43mStudent\u001b[49m\u001b[43m(\u001b[49m\u001b[38;5;124;43m\"\u001b[39;49m\u001b[38;5;124;43m徐國堂\u001b[39;49m\u001b[38;5;124;43m\"\u001b[39;49m\u001b[43m,\u001b[49m\u001b[38;5;241;43m96\u001b[39;49m\u001b[43m,\u001b[49m\u001b[38;5;241;43m89\u001b[39;49m\u001b[43m,\u001b[49m\u001b[38;5;241;43m92\u001b[39;49m\u001b[43m)\u001b[49m\n\u001b[1;32m     25\u001b[0m \u001b[38;5;28mprint\u001b[39m(\u001b[38;5;28mtype\u001b[39m(s1))\n",
      "\u001b[0;31mTypeError\u001b[0m: Student.__init__() takes 3 positional arguments but 5 were given"
     ]
    }
   ],
   "source": [
    "class Person():\n",
    "    def __init__(self,n:str):\n",
    "        self.name = n\n",
    "    \n",
    "    def __repr__(self):\n",
    "        return f\"這是Person的實體,我的名字是{self.name}\" #字串插補\n",
    "    \n",
    "class Student(Person):  #這是第二層 person的student\n",
    "    def __init__(self,name:str,chinese:int,english:int,math:int):\n",
    "        super().__init__(name)\n",
    "        self.chinese = chinese  #前面的self.chinese是Attribute\n",
    "        self.english = english\n",
    "        self.math = math\n",
    "\n",
    "    def __repr__(self):\n",
    "        message = \"\"\n",
    "        message += \"這是Student的實體\\n\"\n",
    "        message += f\"我的姓名是{self.name}\\n\"\n",
    "        message += f\"國文:{self.chinese}\\n\"\n",
    "        message += f\"英文:{self.english}\\n\"\n",
    "        message += f\"數學:{self.math}\\n\"\n",
    "        return message\n",
    "\n",
    "\n",
    "    s1 = Student(\"徐國堂\",96,89,92)\n",
    "    print(type(s1))\n",
    " "
   ]
  },
  {
   "cell_type": "code",
   "execution_count": 1,
   "metadata": {},
   "outputs": [
    {
     "name": "stdout",
     "output_type": "stream",
     "text": [
      "<class '__main__.Student'>\n",
      "徐國堂\n",
      "這是Student的實體\n",
      "我的姓名是徐國堂\n",
      "國文:100\n",
      "英文:100\n",
      "數學:100\n",
      "\n"
     ]
    }
   ],
   "source": [
    "class Person():\n",
    "    def __init__(self,n:str):\n",
    "        self.name = n\n",
    "    \n",
    "    def __repr__(self):\n",
    "        return f\"這是Person的實體,我的名字是{self.name}\" #字串插補\n",
    "    \n",
    "class Student(Person):\n",
    "    def __init__(self,name:str,chinese:int,english:int,math:int):\n",
    "        super().__init__(name)\n",
    "        self.chinese = chinese\n",
    "        self.english = english\n",
    "        self.math = math\n",
    "\n",
    "    def __repr__(self):\n",
    "        message = \"\"\n",
    "        message += \"這是Student的實體\\n\"\n",
    "        message += f\"我的姓名是{self.name}\\n\"\n",
    "        message += f\"國文:{self.chinese}\\n\"\n",
    "        message += f\"英文:{self.english}\\n\"\n",
    "        message += f\"數學:{self.math}\\n\"\n",
    "        return message\n",
    "\n",
    "s1 = Student(\"徐國堂\",96,89,92)\n",
    "print(type(s1))\n",
    "s1.chinese = 100\n",
    "s1.english = 100\n",
    "s1.math = 100\n",
    "print(s1.name)\n",
    "print(s1)"
   ]
  },
  {
   "cell_type": "code",
   "execution_count": null,
   "metadata": {},
   "outputs": [],
   "source": [
    "#Property 限定只能讀取\n",
    "class Person():\n",
    "    def __init__(self,n:str):\n",
    "        self.name = n\n",
    "    \n",
    "    def __repr__(self):\n",
    "        return f\"這是Person的實體,我的名字是{self.name}\" #字串插補\n",
    "    \n",
    "class Student(Person):\n",
    "    def __init__(self,name:str,chinese:int,english:int,math:int):\n",
    "        super().__init__(name)\n",
    "        self.__chinese = chinese\n",
    "        self.__english = english\n",
    "        self.__math = math\n",
    "    \n",
    "    @property\n",
    "    def chinese(self):\n",
    "        return self.__chinese\n",
    "    \n",
    "    @property\n",
    "    def english(self):\n",
    "        return self.__english\n",
    "    \n",
    "    @property\n",
    "    def math(self):\n",
    "        return self.__math\n",
    "\n",
    "    def __repr__(self):\n",
    "        message = \"\"\n",
    "        message += \"這是Student的實體\\n\"\n",
    "        message += f\"我的姓名是{self.name}\\n\"\n",
    "        message += f\"國文:{self.chinese}\\n\"\n",
    "        message += f\"英文:{self.english}\\n\"\n",
    "        message += f\"數學:{self.math}\\n\"\n",
    "        return message\n",
    "    \n",
    "s1 = Student(\"徐國堂\",96,89,92)\n",
    "print(type(s1))\n",
    "#s1.chinese = 100. #因為proper\n",
    "#s1.english = 100\n",
    "#s1.math = 100\n",
    "print(s1.name)\n",
    "print(s1)"
   ]
  }
 ],
 "metadata": {
  "kernelspec": {
   "display_name": "Python 3",
   "language": "python",
   "name": "python3"
  },
  "language_info": {
   "codemirror_mode": {
    "name": "ipython",
    "version": 3
   },
   "file_extension": ".py",
   "mimetype": "text/x-python",
   "name": "python",
   "nbconvert_exporter": "python",
   "pygments_lexer": "ipython3",
   "version": "3.12.3"
  }
 },
 "nbformat": 4,
 "nbformat_minor": 2
}
