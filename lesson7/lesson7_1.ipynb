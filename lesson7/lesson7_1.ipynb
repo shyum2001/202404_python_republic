{
 "cells": [
  {
   "cell_type": "code",
   "execution_count": 2,
   "metadata": {},
   "outputs": [],
   "source": [
    "class Person():\n",
    "    def __init__(self,n:str):\n",
    "        self.name = n\n",
    "    \n",
    "    def __repr__(self):\n",
    "        return \"這是Person的實體\"\n",
    "    "
   ]
  },
  {
   "cell_type": "code",
   "execution_count": 3,
   "metadata": {},
   "outputs": [
    {
     "name": "stdout",
     "output_type": "stream",
     "text": [
      "徐國堂\n",
      "這是Person的實體\n"
     ]
    }
   ],
   "source": [
    "p1 = Person(\"徐國堂\")\n",
    "print(p1.name)\n",
    "print(p1)"
   ]
  },
  {
   "cell_type": "code",
   "execution_count": null,
   "metadata": {},
   "outputs": [],
   "source": [
    "class Person():\n",
    "    def __init__(self,n:str):\n",
    "        self.name = n\n",
    "    \n",
    "    def __repr__(self):\n",
    "        return f\"這是Person的實體,我的名字是{self.name}\" #字串插補"
   ]
  },
  {
   "cell_type": "code",
   "execution_count": 8,
   "metadata": {},
   "outputs": [
    {
     "name": "stdout",
     "output_type": "stream",
     "text": [
      "徐國堂\n",
      "這是Person的實體,我的名字是徐國堂\n"
     ]
    }
   ],
   "source": [
    "p1 = Person(\"徐國堂\")\n",
    "print(p1.name)\n",
    "print(p1)"
   ]
  },
  {
   "cell_type": "code",
   "execution_count": 10,
   "metadata": {},
   "outputs": [],
   "source": [
    "class Person():\n",
    "    def __init__(self,n:str):\n",
    "        self.name = n\n",
    "    \n",
    "    def __repr__(self):\n",
    "        return f\"這是Person的實體,我的名字是{self.name}\" #字串插補"
   ]
  },
  {
   "cell_type": "code",
   "execution_count": 12,
   "metadata": {},
   "outputs": [
    {
     "name": "stdout",
     "output_type": "stream",
     "text": [
      "Robert Hsu\n",
      "這是Person的實體,我的名字是Robert Hsu\n"
     ]
    }
   ],
   "source": [
    "p2 = Person(\"Robert Hsu\")\n",
    "print(p2.name)\n",
    "print(p2)"
   ]
  },
  {
   "cell_type": "code",
   "execution_count": 4,
   "metadata": {},
   "outputs": [
    {
     "data": {
      "text/plain": [
       "'我的名字徐國堂'"
      ]
     },
     "execution_count": 4,
     "metadata": {},
     "output_type": "execute_result"
    }
   ],
   "source": [
    "name = \"徐國堂\"\n",
    "\"我的名字是name\"\n",
    "f\"我的名字{name}\"#字串插補"
   ]
  },
  {
   "cell_type": "code",
   "execution_count": 13,
   "metadata": {},
   "outputs": [
    {
     "name": "stdout",
     "output_type": "stream",
     "text": [
      "<class '__main__.Student'>\n",
      "徐國堂\n",
      "96\n"
     ]
    }
   ],
   "source": [
    "#繼承Class  https://docs.python.org/zh-tw/3/library/functions.html#func-tuple\n",
    "#為了方便組件，定義所有的事情，但如先建汽車工廠(模組)\n",
    "class Person():\n",
    "    def __init__(self,n:str):  #self,\"n\"是指下面的self.name=n \n",
    "        self.name = n\n",
    "    \n",
    "    def __repr__(self):\n",
    "        return f\"這是Person的實體,我的名字是{self.name}\" #字串插補\n",
    "    \n",
    "class Student(Person):\n",
    "    def __init__(self,name:str,scores:int): #把名字和分數都放進去\n",
    "        super().__init__(name)  #回去確認一下 super()\n",
    "        self.scores = scores\n",
    "\n",
    "s1 = Student(\"徐國堂\",96)\n",
    "print(type(s1)) #確認型態，下面有寫Student的內容\n",
    "print(s1.name)  \n",
    "print(s1.scores)"
   ]
  },
  {
   "cell_type": "code",
   "execution_count": 16,
   "metadata": {},
   "outputs": [
    {
     "name": "stdout",
     "output_type": "stream",
     "text": [
      "<class '__main__.Student'>\n",
      "徐國堂\n",
      "96\n",
      "這是Student的實體,我的名用是徐國堂,我的分數是96\n"
     ]
    }
   ],
   "source": [
    "class Person():\n",
    "    def __init__(self,n:str):  #self,\"n\"是指下面的self.name=n \n",
    "        self.name = n\n",
    "    \n",
    "    def __repr__(self):\n",
    "        return f\"這是Person的實體,我的名字是{self.name}\" #字串插補\n",
    "    \n",
    "class Student(Person):\n",
    "    def __init__(self,name:str,scores:int): #把名字和分數都放進去\n",
    "        super().__init__(name)  #回去確認一下 super()\n",
    "        self.scores = scores\n",
    "\n",
    "    def __repr__(self): #適合多人開發，只要重新定義就好\n",
    "        return f\"這是Student的實體,我的名用是{self.name},我的分數是{self.scores}\"\n",
    "\n",
    "s1 = Student(\"徐國堂\",96)\n",
    "print(type(s1)) #確認型態，下面有寫Student的內容\n",
    "print(s1.name)  \n",
    "print(s1.scores)\n",
    "print(s1)"
   ]
  },
  {
   "cell_type": "code",
   "execution_count": 17,
   "metadata": {},
   "outputs": [
    {
     "name": "stdout",
     "output_type": "stream",
     "text": [
      "<class '__main__.Student'>\n",
      "徐國堂\n",
      "96\n",
      "這是Student的實體,我的名字是徐國堂,我的分數是96\n"
     ]
    }
   ],
   "source": [
    "class Person():\n",
    "    def __init__(self,n:str):\n",
    "        self.name = n\n",
    "    \n",
    "    def __repr__(self):\n",
    "        return f\"這是Person的實體,我的名字是{self.name}\" #字串插補\n",
    "    \n",
    "class Student(Person):\n",
    "    def __init__(self,name:str,scores:int): #這裡有兩個值，下面print時要有對照值\n",
    "        super().__init__(name)\n",
    "        self.scores = scores\n",
    "\n",
    "    def __repr__(self):\n",
    "        return f\"這是Student的實體,我的名字是{self.name},我的分數是{self.scores}\" #字串插補    \n",
    "\n",
    "s1 = Student(\"徐國堂\",96)\n",
    "print(type(s1))\n",
    "print(s1.name)\n",
    "print(s1.scores)\n",
    "print(s1)"
   ]
  }
 ],
 "metadata": {
  "kernelspec": {
   "display_name": "Python 3",
   "language": "python",
   "name": "python3"
  },
  "language_info": {
   "codemirror_mode": {
    "name": "ipython",
    "version": 3
   },
   "file_extension": ".py",
   "mimetype": "text/x-python",
   "name": "python",
   "nbconvert_exporter": "python",
   "pygments_lexer": "ipython3",
   "version": "3.12.3"
  }
 },
 "nbformat": 4,
 "nbformat_minor": 2
}
