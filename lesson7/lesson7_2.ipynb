{
 "cells": [
  {
   "cell_type": "code",
   "execution_count": 5,
   "metadata": {},
   "outputs": [
    {
     "name": "stdout",
     "output_type": "stream",
     "text": [
      "徐國堂\n",
      "96\n",
      "90\n",
      "89\n",
      "275\n",
      "91.67\n",
      "<bound method Student.average of Student(name='徐國堂', chinese=96, english=90, math=89)>\n"
     ]
    }
   ],
   "source": [
    "#進化版Class, dataclasses\n",
    "#在python裡是import, 在jupyter裡是用@引入\n",
    "\n",
    "from dataclasses import dataclass\n",
    "\n",
    "@dataclass\n",
    "class Student: \n",
    "    name:str #欄位(Field)\n",
    "    chinese:int\n",
    "    english:int\n",
    "    math:int\n",
    "\n",
    "    @property\n",
    "    def sum(self)-> int:\n",
    "        return self.chinese + self.english +self.math\n",
    "    \n",
    "    def average(self)-> float:\n",
    "        return round(self.sum / 3 ,2)\n",
    "s1 = Student(\"徐國堂\",math=89,english=90,chinese=96) #型態要相同，如果打的是(\"徐國堂\"89,90,96)也行，但要對照放入\n",
    "print(s1.name)\n",
    "print(s1.chinese)\n",
    "print(s1.english)\n",
    "print(s1.math)\n",
    "print(s1.sum)\n",
    "print(s1.average()) #要記得放小括號\n",
    "print(s1.average) #不然就會成字串顯示出來"
   ]
  },
  {
   "cell_type": "code",
   "execution_count": 2,
   "metadata": {},
   "outputs": [
    {
     "name": "stdout",
     "output_type": "stream",
     "text": [
      "徐國堂\n",
      "96\n",
      "90\n",
      "89\n"
     ]
    }
   ],
   "source": [
    "s1 = Student(\"徐國堂\",math=89,english=90,chinese=96) #型態要相同，如果打的是(\"徐國堂\"89,90,96)也行，但要對照放入\n",
    "print(s1.name)\n",
    "print(s1.chinese)\n",
    "print(s1.english)\n",
    "print(s1.math)"
   ]
  }
 ],
 "metadata": {
  "kernelspec": {
   "display_name": "Python 3",
   "language": "python",
   "name": "python3"
  },
  "language_info": {
   "codemirror_mode": {
    "name": "ipython",
    "version": 3
   },
   "file_extension": ".py",
   "mimetype": "text/x-python",
   "name": "python",
   "nbconvert_exporter": "python",
   "pygments_lexer": "ipython3",
   "version": "3.12.3"
  }
 },
 "nbformat": 4,
 "nbformat_minor": 2
}
