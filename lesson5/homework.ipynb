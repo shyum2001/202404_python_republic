{
 "cells": [
  {
   "cell_type": "code",
   "execution_count": null,
   "metadata": {},
   "outputs": [],
   "source": [
    "name = input(\"請輸入姓名\")\n",
    "height = float(input(\"請輸入您的身高(cm)\"))\n",
    "weight = float(input(\"請輸入您的體重(kg)\"))\n",
    "BMI = weight / (height / 100) ** 2\n",
    "print(name,\"您好:\")\n",
    "print(\"您的BMI值是:\",BMI)\n",
    "\n",
    "if BMI <18.5:\n",
    "    print(\"體重過輕\")\n",
    "elif BMI > 25 and BMI< 27:\n",
    "    print(\"體重過重\")\n",
    "elif BMI > 27:\n",
    "    print(\"體重超重\") \n",
    "else:\n",
    "    print(\"正常範圍\")"
   ]
  }
 ],
 "metadata": {
  "language_info": {
   "name": "python"
  }
 },
 "nbformat": 4,
 "nbformat_minor": 2
}
