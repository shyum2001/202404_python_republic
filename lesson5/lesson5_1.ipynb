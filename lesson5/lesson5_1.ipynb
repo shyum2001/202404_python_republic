{
 "cells": [
  {
   "cell_type": "code",
   "execution_count": 2,
   "metadata": {},
   "outputs": [
    {
     "data": {
      "text/plain": [
       "'徐國堂'"
      ]
     },
     "metadata": {},
     "output_type": "display_data"
    }
   ],
   "source": [
    "display(input(\"請輸入姓名\"))\n",
    "\n"
   ]
  },
  {
   "cell_type": "code",
   "execution_count": 4,
   "metadata": {},
   "outputs": [
    {
     "name": "stdout",
     "output_type": "stream",
     "text": [
      "徐國堂\n"
     ]
    }
   ],
   "source": [
    "print(input(\"請輸入姓名:\"))"
   ]
  },
  {
   "cell_type": "code",
   "execution_count": 3,
   "metadata": {},
   "outputs": [
    {
     "name": "stdout",
     "output_type": "stream",
     "text": [
      "hello ! git\n"
     ]
    }
   ],
   "source": [
    "print(\"hello ! git\")"
   ]
  },
  {
   "cell_type": "code",
   "execution_count": null,
   "metadata": {},
   "outputs": [],
   "source": [
    "print(\"hello! git again!\")\n"
   ]
  },
  {
   "cell_type": "code",
   "execution_count": 1,
   "metadata": {},
   "outputs": [
    {
     "data": {
      "text/plain": [
       "True"
      ]
     },
     "execution_count": 1,
     "metadata": {},
     "output_type": "execute_result"
    }
   ],
   "source": [
    "5 > 3\n",
    "\n"
   ]
  },
  {
   "cell_type": "code",
   "execution_count": 2,
   "metadata": {},
   "outputs": [
    {
     "data": {
      "text/plain": [
       "True"
      ]
     },
     "execution_count": 2,
     "metadata": {},
     "output_type": "execute_result"
    }
   ],
   "source": [
    "5 == 5 "
   ]
  },
  {
   "cell_type": "code",
   "execution_count": 3,
   "metadata": {},
   "outputs": [
    {
     "data": {
      "text/plain": [
       "False"
      ]
     },
     "execution_count": 3,
     "metadata": {},
     "output_type": "execute_result"
    }
   ],
   "source": [
    "5 != 5\n"
   ]
  },
  {
   "cell_type": "code",
   "execution_count": 4,
   "metadata": {},
   "outputs": [
    {
     "name": "stdout",
     "output_type": "stream",
     "text": [
      "不可以投票\n",
      "不可以考駕照\n",
      "應用程式結束\n"
     ]
    }
   ],
   "source": [
    "age = 17\n",
    "if age >= 18:\n",
    "    print(\"可以投票\")\n",
    "    print(\"可以考駕照\")\n",
    "else:\n",
    "    print(\"不可以投票\")\n",
    "    print(\"不可以考駕照\")\n",
    "print(\"應用程式結束\")"
   ]
  },
  {
   "cell_type": "code",
   "execution_count": 7,
   "metadata": {},
   "outputs": [
    {
     "name": "stdout",
     "output_type": "stream",
     "text": [
      "目前學生的分數 278.25\n"
     ]
    }
   ],
   "source": [
    "scores = int(input(\"請輸入學生分數(最高200):\"))\n",
    "is_add = input(\"學生是否符合加分條件?(y,n)\")\n",
    "\n",
    "if is_add =='y':\n",
    "    scores = scores *1.05\n",
    "\n",
    "print(\"目前學生的分數\",scores)\n"
   ]
  },
  {
   "cell_type": "code",
   "execution_count": 8,
   "metadata": {},
   "outputs": [
    {
     "name": "stdout",
     "output_type": "stream",
     "text": [
      "目前學生的分數 278.25\n"
     ]
    }
   ],
   "source": [
    "scores = int(input(\"請輸入學生分數(最高200):\"))\n",
    "is_add = input(\"學生是否符合加分條件?(y,n)\")\n",
    "\n",
    "if is_add =='y':\n",
    "   # scores = scores *1.05\n",
    "   scores *= 1.05\n",
    "\n",
    "print(\"目前學生的分數\",scores)"
   ]
  },
  {
   "cell_type": "code",
   "execution_count": 9,
   "metadata": {},
   "outputs": [
    {
     "name": "stdout",
     "output_type": "stream",
     "text": [
      "目前學生的分數 278\n"
     ]
    }
   ],
   "source": [
    "scores = int(input(\"請輸入學生分數(最高200):\"))\n",
    "is_add = input(\"學生是否符合加分條件?(y,n)\")\n",
    "\n",
    "if is_add =='y':\n",
    "   # scores = scores *1.05\n",
    "   scores *= 1.05\n",
    "\n",
    "print(\"目前學生的分數\",round(scores))"
   ]
  },
  {
   "cell_type": "code",
   "execution_count": 11,
   "metadata": {},
   "outputs": [
    {
     "name": "stdout",
     "output_type": "stream",
     "text": [
      "目前學生的分數 300\n"
     ]
    }
   ],
   "source": [
    "scores = int(input(\"請輸入學生分數(最高200):\"))\n",
    "is_add = input(\"學生是否符合加分條件?(y,n)\")\n",
    "\n",
    "if is_add =='y':\n",
    "   # scores = scores *1.05\n",
    "   scores *= 1.05\n",
    "   if scores > 300:\n",
    "        scores = 300\n",
    "\n",
    "print(\"目前學生的分數\",round(scores))"
   ]
  },
  {
   "cell_type": "code",
   "execution_count": 13,
   "metadata": {},
   "outputs": [
    {
     "name": "stdout",
     "output_type": "stream",
     "text": [
      "輸入分數超過300\n"
     ]
    }
   ],
   "source": [
    "scores = int(input(\"請輸入學生分數(最高200):\"))\n",
    "if scores <=300:\n",
    "    is_add = input(\"學生是否符合加分條件?(y,n)\")\n",
    "\n",
    "    if is_add =='y':\n",
    "        # scores = scores *1.05\n",
    "        scores *= 1.05\n",
    "        if scores > 300:\n",
    "                scores = 300\n",
    "\n",
    "    print(\"目前學生的分數\",round(scores))\n",
    "else:\n",
    "      print(\"輸入分數超過300\")\n",
    "#用310的分數測試"
   ]
  },
  {
   "cell_type": "code",
   "execution_count": 14,
   "metadata": {},
   "outputs": [
    {
     "name": "stdout",
     "output_type": "stream",
     "text": [
      "目前學生的分數 300\n"
     ]
    }
   ],
   "source": [
    "scores = int(input(\"請輸入學生分數(最高200):\"))\n",
    "if scores <=300:\n",
    "    is_add = input(\"學生是否符合加分條件?(y,n)\")\n",
    "\n",
    "    if is_add =='y':\n",
    "        # scores = scores *1.05\n",
    "        scores *= 1.05\n",
    "        if scores > 300:\n",
    "                scores = 300\n",
    "\n",
    "    print(\"目前學生的分數\",round(scores))\n",
    "else:\n",
    "      print(\"輸入分數超過300\")\n",
    "      #用295的分數測試"
   ]
  },
  {
   "cell_type": "code",
   "execution_count": 15,
   "metadata": {},
   "outputs": [
    {
     "name": "stdout",
     "output_type": "stream",
     "text": [
      "格式錯誤\n",
      "應用程式結束\n"
     ]
    }
   ],
   "source": [
    "try:\n",
    "    scores = int(input(\"請輸入學生分數(最高200):\"))\n",
    "except:\n",
    "    print(\"格式錯誤\")\n",
    "else:\n",
    "    if scores <=300:\n",
    "        is_add = input(\"學生是否符合加分條件?(y,n)\")\n",
    "\n",
    "        if is_add =='y':\n",
    "            # scores = scores *1.05\n",
    "            scores *= 1.05\n",
    "            if scores > 300:\n",
    "                    scores = 300\n",
    "\n",
    "        print(\"目前學生的分數\",round(scores))\n",
    "    else:\n",
    "        print(\"輸入分數超過300\")\n",
    "print(\"應用程式結束\")\n",
    "        #用29A的分數測試"
   ]
  },
  {
   "cell_type": "code",
   "execution_count": 16,
   "metadata": {},
   "outputs": [
    {
     "name": "stdout",
     "output_type": "stream",
     "text": [
      "目前學生的分數 260\n",
      "應用程式結束\n"
     ]
    }
   ],
   "source": [
    "try:\n",
    "    scores = int(input(\"請輸入學生分數(最高200):\"))\n",
    "except:\n",
    "    print(\"格式錯誤\")\n",
    "else:\n",
    "    if scores <=300:\n",
    "        is_add = input(\"學生是否符合加分條件?(y,n)\")\n",
    "\n",
    "        if is_add =='y':\n",
    "            # scores = scores *1.05\n",
    "            scores *= 1.05\n",
    "            if scores > 300:\n",
    "                    scores = 300\n",
    "\n",
    "        print(\"目前學生的分數\",round(scores))\n",
    "    else:\n",
    "        print(\"輸入分數超過300\")\n",
    "print(\"應用程式結束\")\n",
    "        #用260的分數測試"
   ]
  },
  {
   "cell_type": "code",
   "execution_count": 17,
   "metadata": {},
   "outputs": [
    {
     "name": "stdout",
     "output_type": "stream",
     "text": [
      "分數60-79分\n"
     ]
    }
   ],
   "source": [
    "score = 75 \n",
    "if score >= 60:\n",
    "    if score <80:\n",
    "        print(\"分數60-79分\")\n",
    "        "
   ]
  },
  {
   "cell_type": "code",
   "execution_count": 18,
   "metadata": {},
   "outputs": [
    {
     "name": "stdout",
     "output_type": "stream",
     "text": [
      "分數大於等於80\n"
     ]
    }
   ],
   "source": [
    "score = 89\n",
    "if score < 60:\n",
    "    print(\"分數小於60\")\n",
    "\n",
    "if score >=80:\n",
    "    print(\"分數大於等於80\")\n",
    "    "
   ]
  },
  {
   "cell_type": "code",
   "execution_count": 25,
   "metadata": {},
   "outputs": [
    {
     "name": "stdout",
     "output_type": "stream",
     "text": [
      "分數小於60或分數大於等於80\n"
     ]
    }
   ],
   "source": [
    "score = 89\n",
    "if score < 60 or score>= 80:\n",
    "    print(\"分數小於60或分數大於等於80\")\n",
    "    "
   ]
  },
  {
   "cell_type": "code",
   "execution_count": 30,
   "metadata": {},
   "outputs": [
    {
     "ename": "IndentationError",
     "evalue": "unindent does not match any outer indentation level (<string>, line 5)",
     "output_type": "error",
     "traceback": [
      "\u001b[0;36m  File \u001b[0;32m<string>:5\u001b[0;36m\u001b[0m\n\u001b[0;31m    else:\u001b[0m\n\u001b[0m         ^\u001b[0m\n\u001b[0;31mIndentationError\u001b[0m\u001b[0;31m:\u001b[0m unindent does not match any outer indentation level\n"
     ]
    }
   ],
   "source": [
    "try:\n",
    "    scores = int(input(\"請輸入學生分數(最高300):\"))\n",
    "except:\n",
    "    print(\"格式錯誤\")\n",
    "  else:\n",
    "     if not (scores <= 300 and scores >= 0):\n",
    "         print(\"輸入分數超過300或小於0\")\n",
    "    else:\n",
    "        #if scores <=300: 這個就可以被移掉了\n",
    "        is_add = input(\"學生是否符合加分條件?(y,n)\")\n",
    "\n",
    "        if is_add =='y':\n",
    "                # scores = scores *1.05\n",
    "                scores *= 1.05\n",
    "            if scores > 300:\n",
    "                        scores = 300\n",
    "\n",
    "        print(\"目前學生的分數\",round(scores))\n",
    "  \n",
    "print(\"應用程式結束\")\n",
    "        #用260的分數測試"
   ]
  },
  {
   "cell_type": "code",
   "execution_count": 28,
   "metadata": {},
   "outputs": [
    {
     "name": "stdout",
     "output_type": "stream",
     "text": [
      "輸入分數超過300或小於0\n",
      "應用程式結束\n"
     ]
    }
   ],
   "source": [
    "try:\n",
    "    scores = int(input(\"請輸入學生分數(最高300):\"))\n",
    "except:\n",
    "    print(\"格式錯誤\")\n",
    "else:\n",
    "    if not (scores <= 300 and scores >= 0):        \n",
    "        print(\"輸入分數超過300或小於0\")\n",
    "    else:\n",
    "        is_add = input(\"學生是否符合加分條件?(y,n)\")\n",
    "\n",
    "        if is_add == 'y':\n",
    "            #scores = scores * 1.05\n",
    "            scores *= 1.05\n",
    "            if scores > 300:\n",
    "                scores = 300\n",
    "\n",
    "        print(\"目前學生的分數\",round(scores))\n",
    "        \n",
    "print(\"應用程式結束\")"
   ]
  },
  {
   "cell_type": "code",
   "execution_count": 33,
   "metadata": {},
   "outputs": [
    {
     "name": "stdout",
     "output_type": "stream",
     "text": [
      "大於等於80\n"
     ]
    }
   ],
   "source": [
    "scores =89\n",
    "\n",
    "if scores <60:\n",
    "    print(\"不及格\")\n",
    "elif scores <80:\n",
    "    print(\"大於等於60\")\n",
    "    print(\"小於80\")\n",
    "else:\n",
    "    print(\"大於等於80\")\n",
    "\n"
   ]
  },
  {
   "cell_type": "code",
   "execution_count": null,
   "metadata": {},
   "outputs": [],
   "source": [
    "scores =89\n",
    "\n",
    "if scores <60:\n",
    "    print(\"不及格\")\n",
    "elif scores <80: # else + if 的簡寫\n",
    "    print(\"大於等於60\")\n",
    "    print(\"小於80\")\n",
    "else:\n",
    "    print(\"大於等於80\")\n"
   ]
  },
  {
   "cell_type": "code",
   "execution_count": null,
   "metadata": {},
   "outputs": [],
   "source": [
    "try:\n",
    "    scores = int(input(\"請輸入學生分數(最高300):\"))\n",
    "    if scores <= 300 and scores >= 0:        \n",
    "        is_add = input(\"學生是否符合加分條件?(y,n)\")\n",
    "\n",
    "        if is_add == 'y':\n",
    "            #scores = scores * 1.05\n",
    "            scores *= 1.05\n",
    "            if scores > 300:\n",
    "                scores = 300\n",
    "\n",
    "        print(\"目前學生的分數\",round(scores))\n",
    "    else:\n",
    "        print(\"輸入分數超過300或是小於0\")\n",
    "except:\n",
    "    print(\"格式錯誤\")\n",
    "        \n",
    "print(\"應用程式結束\")"
   ]
  },
  {
   "cell_type": "code",
   "execution_count": null,
   "metadata": {},
   "outputs": [],
   "source": [
    "try:\n",
    "    scores = int(input(\"請輸入學生分數(最高300):\"))\n",
    "    if scores <= 300 and scores >= 0:\n",
    "        is_add = input(\"學生是否符合加分條件?(y,n)\")\n",
    "\n",
    "        if is_add == 'y':\n",
    "            #scores = scores * 1.05\n",
    "            scores *= 1.05\n",
    "            if scores > 300:\n",
    "                scores = 300\n",
    "\n",
    "        print(\"目前學生的分數\",round(scores))\n",
    "    else:\n",
    "        print(\"輸入分數超過300或小於0\")\n",
    "except:\n",
    "    print(\"格式錯誤\")\n",
    "print(\"應用程式結束\")"
   ]
  },
  {
   "cell_type": "code",
   "execution_count": 12,
   "metadata": {},
   "outputs": [
    {
     "name": "stdout",
     "output_type": "stream",
     "text": [
      "david 您好:\n",
      "您的BMI值是: 29.384756657483933\n",
      "體重超重\n"
     ]
    }
   ],
   "source": [
    "name = input(\"請輸入姓名\")\n",
    "height = float(input(\"請輸入您的身高(cm)\"))\n",
    "weight = float(input(\"請輸入您的體重(kg)\"))\n",
    "BMI = weight / (height / 100) ** 2\n",
    "print(name,\"您好:\")\n",
    "print(\"您的BMI值是:\",BMI)\n",
    "\n",
    "if BMI <18.5:\n",
    "    print(\"體重過輕\")\n",
    "elif BMI > 25 and BMI< 27:\n",
    "    print(\"體重過重\")\n",
    "elif BMI > 27:\n",
    "    print(\"體重超重\") \n",
    "else:\n",
    "    print(\"正常範圍\")\n",
    "\n"
   ]
  }
 ],
 "metadata": {
  "kernelspec": {
   "display_name": "Python 3",
   "language": "python",
   "name": "python3"
  },
  "language_info": {
   "codemirror_mode": {
    "name": "ipython",
    "version": 3
   },
   "file_extension": ".py",
   "mimetype": "text/x-python",
   "name": "python",
   "nbconvert_exporter": "python",
   "pygments_lexer": "ipython3",
   "version": "3.12.3"
  }
 },
 "nbformat": 4,
 "nbformat_minor": 2
}
