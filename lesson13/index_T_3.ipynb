{
 "cells": [
  {
   "cell_type": "code",
   "execution_count": null,
   "metadata": {},
   "outputs": [],
   "source": [
    "import requests\n",
    "\n",
    "youbike_url =\n",
    "try:\n",
    "    response = requests.get(youbike_url)\n",
    "except Exception as e:\n",
    "    print(e)\n",
    "else:\n",
    "    print(response.text)\n",
    "    "
   ]
  }
 ],
 "metadata": {
  "language_info": {
   "name": "python"
  }
 },
 "nbformat": 4,
 "nbformat_minor": 2
}
