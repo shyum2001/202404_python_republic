{
 "cells": [
  {
   "cell_type": "code",
   "execution_count": null,
   "metadata": {},
   "outputs": [],
   "source": [
    "import source\n",
    "from source import Root\n",
    "date_str =source.download_youbike()\n",
    "root =Root.model_validate_jaon(data_str)\n",
    "date = root.model_dump()\n",
    "\n",
    "#def get_sarea(value:dict)\n",
    " #   return value['行政區']\n",
    "\n",
    "list (set(map(lambda value:value:['行政府'],data)))\n",
    "\n",
    "\n",
    "\n"
   ]
  }
 ],
 "metadata": {
  "language_info": {
   "name": "python"
  }
 },
 "nbformat": 4,
 "nbformat_minor": 2
}
